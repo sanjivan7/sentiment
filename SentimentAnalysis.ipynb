{
  "nbformat": 4,
  "nbformat_minor": 0,
  "metadata": {
    "colab": {
      "provenance": [],
      "authorship_tag": "ABX9TyNlPGBSpRRmciKcIndxxWD9",
      "include_colab_link": true
    },
    "kernelspec": {
      "name": "python3",
      "display_name": "Python 3"
    },
    "language_info": {
      "name": "python"
    }
  },
  "cells": [
    {
      "cell_type": "markdown",
      "metadata": {
        "id": "view-in-github",
        "colab_type": "text"
      },
      "source": [
        "<a href=\"https://colab.research.google.com/github/sanjivan7/sentiment/blob/main/SentimentAnalysis.ipynb\" target=\"_parent\"><img src=\"https://colab.research.google.com/assets/colab-badge.svg\" alt=\"Open In Colab\"/></a>"
      ]
    },
    {
      "cell_type": "markdown",
      "source": [
        "# **WhatsApp Chat Sentiment Analysis**"
      ],
      "metadata": {
        "id": "bKejbbp1i3lh"
      }
    },
    {
      "cell_type": "code",
      "execution_count": 1,
      "metadata": {
        "id": "dtvotEw5iyt_"
      },
      "outputs": [],
      "source": [
        "import pandas as pd\n",
        "import numpy as np\n",
        "import re\n",
        "\n",
        "import matplotlib.pyplot as plt\n",
        "from PIL import Image\n",
        "\n",
        "from collections import Counter\n",
        "from wordcloud import WordCloud, STOPWORDS, ImageColorGenerator"
      ]
    },
    {
      "cell_type": "markdown",
      "source": [
        "**Import Dataset**"
      ],
      "metadata": {
        "id": "PXFMGS_jjaN2"
      }
    },
    {
      "cell_type": "code",
      "source": [
        "conversation='_chat.txt'"
      ],
      "metadata": {
        "id": "LacA4X4zjeIq"
      },
      "execution_count": 2,
      "outputs": []
    },
    {
      "cell_type": "markdown",
      "source": [
        "**Find Time and Authors**"
      ],
      "metadata": {
        "id": "w3ysCc_tlH_3"
      }
    },
    {
      "cell_type": "code",
      "source": [
        "def date_time(s):\n",
        "  pattern='^([0-9]+)(\\/)([0-9]+)(\\/)([0-9]+), ([0-9]+):([0-9]+)[ ]?(AM|PM|am|pm)? -'\n",
        "  result=re.match(pattern,s)\n",
        "  if result:\n",
        "    return True\n",
        "  return False"
      ],
      "metadata": {
        "id": "6tpweCF2lLbx"
      },
      "execution_count": 3,
      "outputs": []
    },
    {
      "cell_type": "code",
      "source": [
        "def find_author(s):\n",
        "  s=s.split(\":\")\n",
        "  if len(s)==2:\n",
        "    return True\n",
        "  else:\n",
        "    return False"
      ],
      "metadata": {
        "id": "GLZ2epDVlUcK"
      },
      "execution_count": 4,
      "outputs": []
    },
    {
      "cell_type": "markdown",
      "source": [
        "**Find Messages**"
      ],
      "metadata": {
        "id": "zlwRXioylcos"
      }
    },
    {
      "cell_type": "code",
      "source": [
        "def message(line):\n",
        "  splitline=line.split(' - ')\n",
        "  datetime=splitline[0]\n",
        "  date,time=datetime.split(\", \")\n",
        "  message=\" \".join(splitline[1:])\n",
        "\n",
        "  if find_author(message):\n",
        "    splitmessage=message.split(\": \")\n",
        "    author=splitmessage[0]\n",
        "    message=\" \".join(splitmessage[1:])\n",
        "  else:\n",
        "    author=None\n",
        "  return date,time,author,message"
      ],
      "metadata": {
        "id": "gVs4iapeleQo"
      },
      "execution_count": 5,
      "outputs": []
    },
    {
      "cell_type": "markdown",
      "source": [
        "**Prepare Dataset**"
      ],
      "metadata": {
        "id": "Mj5yZrPLl3eI"
      }
    },
    {
      "cell_type": "code",
      "source": [
        "data = []\n",
        "conversation='_chat.txt'\n",
        "with open(conversation, encoding=\"utf-8\") as fp:\n",
        "    fp.readline()\n",
        "    messageBuffer = []\n",
        "    date, time, author = None, None, None\n",
        "    while True:\n",
        "        line = fp.readline()\n",
        "        if not line:\n",
        "            break\n",
        "        line = line.strip()\n",
        "        if date_time(line):\n",
        "            if len(messageBuffer) > 0:\n",
        "                data.append([date, time, author, ' '.join(messageBuffer)])\n",
        "            messageBuffer.clear()\n",
        "            date, time, author, message = getDatapoint(line)\n",
        "            messageBuffer.append(message)\n",
        "        else:\n",
        "            messageBuffer.append(line)"
      ],
      "metadata": {
        "id": "Ax_BZ9XQl5ML"
      },
      "execution_count": 9,
      "outputs": []
    },
    {
      "cell_type": "markdown",
      "source": [
        "**Sentiment Intensity Analyser Algorithm**"
      ],
      "metadata": {
        "id": "nWkdjqYhmvBX"
      }
    },
    {
      "cell_type": "code",
      "source": [
        "df = pd.DataFrame(data, columns=[\"Date\", 'Time', 'Author', 'Message'])\n",
        "df['Date'] = pd.to_datetime(df['Date'])\n",
        "\n",
        "data=df.dropna()\n",
        "\n",
        "from nltk.sentiment.vader import SentimentIntensityAnalyzer\n",
        "\n",
        "sentiments=SentimentIntensityAnalyzer\n",
        "\n",
        "data[\"Positive\"]=[sentiment.polarity_scores(i)[\"pos\"] for i in data[\"Message\"]]\n",
        "\n",
        "data[\"Negative\"]=[sentiment.polarity_scores(i)[\"neg\"] for i in data[\"Message\"]]\n",
        "\n",
        "data[\"Neutral\"]=[sentiment.polarity_scores(i)[\"neu\"] for i in data[\"Message\"]]\n",
        "\n",
        "print(data.head())"
      ],
      "metadata": {
        "colab": {
          "base_uri": "https://localhost:8080/"
        },
        "id": "rAW9cz43myPG",
        "outputId": "4bf6d7a0-7da1-422c-da33-96e4dc345af6"
      },
      "execution_count": 14,
      "outputs": [
        {
          "output_type": "stream",
          "name": "stdout",
          "text": [
            "Empty DataFrame\n",
            "Columns: [Date, Time, Author, Message, Positive, Negative, Neutral]\n",
            "Index: []\n"
          ]
        }
      ]
    },
    {
      "cell_type": "markdown",
      "source": [
        "**Validate The Sentiment**"
      ],
      "metadata": {
        "id": "yGE7X0pPnuuR"
      }
    },
    {
      "cell_type": "code",
      "source": [
        "x=sum(data[\"Positive\"])\n",
        "y=sum(data[\"Negative\"])\n",
        "z=sum(data[\"Neutral\"])\n",
        "\n",
        "def score(a,b,c):\n",
        "  if (a>b) and (a>c):\n",
        "    print(\"Positive\")\n",
        "  elif (b>a) and (b>c):\n",
        "    print(\"Negative\")\n",
        "  else:\n",
        "    print(\"Neutral\")\n",
        "\n",
        "score(x,y,z)"
      ],
      "metadata": {
        "colab": {
          "base_uri": "https://localhost:8080/"
        },
        "id": "NbdvsMhPnxOO",
        "outputId": "d5b347f7-d8d3-4869-bd40-647c136337c2"
      },
      "execution_count": 15,
      "outputs": [
        {
          "output_type": "stream",
          "name": "stdout",
          "text": [
            "Neutral\n"
          ]
        }
      ]
    },
    {
      "cell_type": "code",
      "source": [],
      "metadata": {
        "id": "QvbKv12Pn922"
      },
      "execution_count": null,
      "outputs": []
    }
  ]
}